{
 "cells": [
  {
   "cell_type": "code",
   "execution_count": 1,
   "metadata": {
    "collapsed": true
   },
   "outputs": [],
   "source": [
    "import numpy as np\n",
    "import pandas as pd\n",
    "import matplotlib.pyplot as plt\n",
    "import seaborn as sns\n",
    "%matplotlib inline\n",
    "import statsmodels\n",
    "\n",
    "from sklearn import datasets"
   ]
  },
  {
   "cell_type": "code",
   "execution_count": 2,
   "metadata": {
    "collapsed": true
   },
   "outputs": [],
   "source": [
    "train=pd.read_excel(\"E:/박혜린/디버그/ck프로젝트(18년도 2학기)/데이터/최종데이터/final_train.xlsx\")\n",
    "test=pd.read_excel(\"E:/박혜린/디버그/ck프로젝트(18년도 2학기)/데이터/최종데이터/final_test.xlsx\")"
   ]
  },
  {
   "cell_type": "markdown",
   "metadata": {},
   "source": [
    "### 랜덤포레스트 데이터 분류"
   ]
  },
  {
   "cell_type": "code",
   "execution_count": 3,
   "metadata": {
    "collapsed": true
   },
   "outputs": [],
   "source": [
    "X_train=train.iloc[:,1:-2]\n",
    "y_train=train.iloc[:,-2]"
   ]
  },
  {
   "cell_type": "code",
   "execution_count": 4,
   "metadata": {
    "collapsed": false
   },
   "outputs": [
    {
     "data": {
      "text/html": [
       "<div>\n",
       "<style scoped>\n",
       "    .dataframe tbody tr th:only-of-type {\n",
       "        vertical-align: middle;\n",
       "    }\n",
       "\n",
       "    .dataframe tbody tr th {\n",
       "        vertical-align: top;\n",
       "    }\n",
       "\n",
       "    .dataframe thead th {\n",
       "        text-align: right;\n",
       "    }\n",
       "</style>\n",
       "<table border=\"1\" class=\"dataframe\">\n",
       "  <thead>\n",
       "    <tr style=\"text-align: right;\">\n",
       "      <th></th>\n",
       "      <th>broad_kbs</th>\n",
       "      <th>broad_mbc</th>\n",
       "      <th>broad_sbs</th>\n",
       "      <th>broad_jtbc</th>\n",
       "      <th>broad_tvn</th>\n",
       "      <th>broad_mnet</th>\n",
       "      <th>broad_etc</th>\n",
       "      <th>age_12</th>\n",
       "      <th>age_15</th>\n",
       "      <th>age_19</th>\n",
       "      <th>...</th>\n",
       "      <th>log_max</th>\n",
       "      <th>log_pro1</th>\n",
       "      <th>log_pro2</th>\n",
       "      <th>log_pd_award</th>\n",
       "      <th>log_pd_max</th>\n",
       "      <th>log_pd_pro1</th>\n",
       "      <th>log_pd_pro2</th>\n",
       "      <th>portal_naver</th>\n",
       "      <th>portal_daum</th>\n",
       "      <th>pd_portal</th>\n",
       "    </tr>\n",
       "  </thead>\n",
       "  <tbody>\n",
       "    <tr>\n",
       "      <th>0</th>\n",
       "      <td>1</td>\n",
       "      <td>0</td>\n",
       "      <td>0</td>\n",
       "      <td>0</td>\n",
       "      <td>0</td>\n",
       "      <td>0</td>\n",
       "      <td>0</td>\n",
       "      <td>0</td>\n",
       "      <td>1</td>\n",
       "      <td>0</td>\n",
       "      <td>...</td>\n",
       "      <td>-2.01592</td>\n",
       "      <td>0.954243</td>\n",
       "      <td>0.000000</td>\n",
       "      <td>0.388585</td>\n",
       "      <td>-2.34199</td>\n",
       "      <td>0.000000</td>\n",
       "      <td>0.000000</td>\n",
       "      <td>1</td>\n",
       "      <td>0</td>\n",
       "      <td>0</td>\n",
       "    </tr>\n",
       "    <tr>\n",
       "      <th>1</th>\n",
       "      <td>1</td>\n",
       "      <td>0</td>\n",
       "      <td>0</td>\n",
       "      <td>0</td>\n",
       "      <td>0</td>\n",
       "      <td>0</td>\n",
       "      <td>0</td>\n",
       "      <td>0</td>\n",
       "      <td>1</td>\n",
       "      <td>0</td>\n",
       "      <td>...</td>\n",
       "      <td>-1.53820</td>\n",
       "      <td>1.113943</td>\n",
       "      <td>0.477121</td>\n",
       "      <td>0.388585</td>\n",
       "      <td>-1.90904</td>\n",
       "      <td>0.694614</td>\n",
       "      <td>0.440044</td>\n",
       "      <td>1</td>\n",
       "      <td>1</td>\n",
       "      <td>1</td>\n",
       "    </tr>\n",
       "    <tr>\n",
       "      <th>2</th>\n",
       "      <td>0</td>\n",
       "      <td>0</td>\n",
       "      <td>1</td>\n",
       "      <td>0</td>\n",
       "      <td>0</td>\n",
       "      <td>0</td>\n",
       "      <td>0</td>\n",
       "      <td>0</td>\n",
       "      <td>1</td>\n",
       "      <td>0</td>\n",
       "      <td>...</td>\n",
       "      <td>-1.97716</td>\n",
       "      <td>1.342423</td>\n",
       "      <td>1.301030</td>\n",
       "      <td>0.301030</td>\n",
       "      <td>-1.29243</td>\n",
       "      <td>0.000000</td>\n",
       "      <td>0.000000</td>\n",
       "      <td>1</td>\n",
       "      <td>1</td>\n",
       "      <td>1</td>\n",
       "    </tr>\n",
       "    <tr>\n",
       "      <th>3</th>\n",
       "      <td>0</td>\n",
       "      <td>0</td>\n",
       "      <td>1</td>\n",
       "      <td>0</td>\n",
       "      <td>0</td>\n",
       "      <td>0</td>\n",
       "      <td>0</td>\n",
       "      <td>1</td>\n",
       "      <td>0</td>\n",
       "      <td>0</td>\n",
       "      <td>...</td>\n",
       "      <td>-1.93330</td>\n",
       "      <td>1.431364</td>\n",
       "      <td>1.278754</td>\n",
       "      <td>0.388585</td>\n",
       "      <td>-1.29243</td>\n",
       "      <td>0.000000</td>\n",
       "      <td>0.000000</td>\n",
       "      <td>1</td>\n",
       "      <td>0</td>\n",
       "      <td>0</td>\n",
       "    </tr>\n",
       "    <tr>\n",
       "      <th>4</th>\n",
       "      <td>0</td>\n",
       "      <td>1</td>\n",
       "      <td>0</td>\n",
       "      <td>0</td>\n",
       "      <td>0</td>\n",
       "      <td>0</td>\n",
       "      <td>0</td>\n",
       "      <td>0</td>\n",
       "      <td>0</td>\n",
       "      <td>0</td>\n",
       "      <td>...</td>\n",
       "      <td>-1.54485</td>\n",
       "      <td>1.633468</td>\n",
       "      <td>1.342423</td>\n",
       "      <td>0.388585</td>\n",
       "      <td>-2.53165</td>\n",
       "      <td>0.694614</td>\n",
       "      <td>0.440044</td>\n",
       "      <td>0</td>\n",
       "      <td>0</td>\n",
       "      <td>0</td>\n",
       "    </tr>\n",
       "  </tbody>\n",
       "</table>\n",
       "<p>5 rows × 39 columns</p>\n",
       "</div>"
      ],
      "text/plain": [
       "   broad_kbs  broad_mbc  broad_sbs  broad_jtbc  broad_tvn  broad_mnet  \\\n",
       "0          1          0          0           0          0           0   \n",
       "1          1          0          0           0          0           0   \n",
       "2          0          0          1           0          0           0   \n",
       "3          0          0          1           0          0           0   \n",
       "4          0          1          0           0          0           0   \n",
       "\n",
       "   broad_etc  age_12  age_15  age_19    ...      log_max  log_pro1  log_pro2  \\\n",
       "0          0       0       1       0    ...     -2.01592  0.954243  0.000000   \n",
       "1          0       0       1       0    ...     -1.53820  1.113943  0.477121   \n",
       "2          0       0       1       0    ...     -1.97716  1.342423  1.301030   \n",
       "3          0       1       0       0    ...     -1.93330  1.431364  1.278754   \n",
       "4          0       0       0       0    ...     -1.54485  1.633468  1.342423   \n",
       "\n",
       "   log_pd_award  log_pd_max  log_pd_pro1  log_pd_pro2  portal_naver  \\\n",
       "0      0.388585    -2.34199     0.000000     0.000000             1   \n",
       "1      0.388585    -1.90904     0.694614     0.440044             1   \n",
       "2      0.301030    -1.29243     0.000000     0.000000             1   \n",
       "3      0.388585    -1.29243     0.000000     0.000000             1   \n",
       "4      0.388585    -2.53165     0.694614     0.440044             0   \n",
       "\n",
       "   portal_daum  pd_portal  \n",
       "0            0          0  \n",
       "1            1          1  \n",
       "2            1          1  \n",
       "3            0          0  \n",
       "4            0          0  \n",
       "\n",
       "[5 rows x 39 columns]"
      ]
     },
     "execution_count": 4,
     "metadata": {},
     "output_type": "execute_result"
    }
   ],
   "source": [
    "X_train.head()"
   ]
  },
  {
   "cell_type": "code",
   "execution_count": 5,
   "metadata": {
    "collapsed": false
   },
   "outputs": [
    {
     "data": {
      "text/plain": [
       "0    0.01553\n",
       "1    0.02023\n",
       "2    0.03152\n",
       "3    0.02474\n",
       "4    0.02309\n",
       "Name: y, dtype: float64"
      ]
     },
     "execution_count": 5,
     "metadata": {},
     "output_type": "execute_result"
    }
   ],
   "source": [
    "y_train.head()"
   ]
  },
  {
   "cell_type": "code",
   "execution_count": 6,
   "metadata": {
    "collapsed": true
   },
   "outputs": [],
   "source": [
    "X_test=test.iloc[:,2:-1]\n",
    "y_test=test.iloc[:,-1]"
   ]
  },
  {
   "cell_type": "code",
   "execution_count": 7,
   "metadata": {
    "collapsed": false
   },
   "outputs": [
    {
     "data": {
      "text/html": [
       "<div>\n",
       "<style scoped>\n",
       "    .dataframe tbody tr th:only-of-type {\n",
       "        vertical-align: middle;\n",
       "    }\n",
       "\n",
       "    .dataframe tbody tr th {\n",
       "        vertical-align: top;\n",
       "    }\n",
       "\n",
       "    .dataframe thead th {\n",
       "        text-align: right;\n",
       "    }\n",
       "</style>\n",
       "<table border=\"1\" class=\"dataframe\">\n",
       "  <thead>\n",
       "    <tr style=\"text-align: right;\">\n",
       "      <th></th>\n",
       "      <th>broad_kbs</th>\n",
       "      <th>broad_mbc</th>\n",
       "      <th>broad_sbs</th>\n",
       "      <th>broad_jtbc</th>\n",
       "      <th>broad_tvn</th>\n",
       "      <th>broad_mnet</th>\n",
       "      <th>broad_etc</th>\n",
       "      <th>age_12</th>\n",
       "      <th>age_15</th>\n",
       "      <th>age_19</th>\n",
       "      <th>...</th>\n",
       "      <th>log_max</th>\n",
       "      <th>pro1</th>\n",
       "      <th>pro2</th>\n",
       "      <th>pd_award</th>\n",
       "      <th>log_pd_max</th>\n",
       "      <th>pd_pro1</th>\n",
       "      <th>pd_pro2</th>\n",
       "      <th>portal_naver</th>\n",
       "      <th>portal_daum</th>\n",
       "      <th>pd_portal</th>\n",
       "    </tr>\n",
       "  </thead>\n",
       "  <tbody>\n",
       "    <tr>\n",
       "      <th>0</th>\n",
       "      <td>0</td>\n",
       "      <td>0</td>\n",
       "      <td>1</td>\n",
       "      <td>0</td>\n",
       "      <td>0</td>\n",
       "      <td>0</td>\n",
       "      <td>0</td>\n",
       "      <td>0</td>\n",
       "      <td>1</td>\n",
       "      <td>0</td>\n",
       "      <td>...</td>\n",
       "      <td>-1.173925</td>\n",
       "      <td>107</td>\n",
       "      <td>37</td>\n",
       "      <td>0</td>\n",
       "      <td>-2.202732</td>\n",
       "      <td>8</td>\n",
       "      <td>0</td>\n",
       "      <td>1</td>\n",
       "      <td>0</td>\n",
       "      <td>1</td>\n",
       "    </tr>\n",
       "    <tr>\n",
       "      <th>1</th>\n",
       "      <td>0</td>\n",
       "      <td>0</td>\n",
       "      <td>0</td>\n",
       "      <td>0</td>\n",
       "      <td>1</td>\n",
       "      <td>0</td>\n",
       "      <td>0</td>\n",
       "      <td>1</td>\n",
       "      <td>0</td>\n",
       "      <td>0</td>\n",
       "      <td>...</td>\n",
       "      <td>-0.709965</td>\n",
       "      <td>28</td>\n",
       "      <td>20</td>\n",
       "      <td>0</td>\n",
       "      <td>-1.481486</td>\n",
       "      <td>0</td>\n",
       "      <td>0</td>\n",
       "      <td>1</td>\n",
       "      <td>0</td>\n",
       "      <td>1</td>\n",
       "    </tr>\n",
       "    <tr>\n",
       "      <th>2</th>\n",
       "      <td>0</td>\n",
       "      <td>0</td>\n",
       "      <td>0</td>\n",
       "      <td>0</td>\n",
       "      <td>0</td>\n",
       "      <td>0</td>\n",
       "      <td>1</td>\n",
       "      <td>0</td>\n",
       "      <td>1</td>\n",
       "      <td>0</td>\n",
       "      <td>...</td>\n",
       "      <td>-1.113509</td>\n",
       "      <td>9</td>\n",
       "      <td>0</td>\n",
       "      <td>0</td>\n",
       "      <td>-1.292430</td>\n",
       "      <td>0</td>\n",
       "      <td>0</td>\n",
       "      <td>0</td>\n",
       "      <td>0</td>\n",
       "      <td>0</td>\n",
       "    </tr>\n",
       "    <tr>\n",
       "      <th>3</th>\n",
       "      <td>0</td>\n",
       "      <td>0</td>\n",
       "      <td>0</td>\n",
       "      <td>0</td>\n",
       "      <td>0</td>\n",
       "      <td>0</td>\n",
       "      <td>1</td>\n",
       "      <td>0</td>\n",
       "      <td>1</td>\n",
       "      <td>0</td>\n",
       "      <td>...</td>\n",
       "      <td>-1.287830</td>\n",
       "      <td>81</td>\n",
       "      <td>12</td>\n",
       "      <td>0</td>\n",
       "      <td>-2.042393</td>\n",
       "      <td>0</td>\n",
       "      <td>0</td>\n",
       "      <td>0</td>\n",
       "      <td>0</td>\n",
       "      <td>0</td>\n",
       "    </tr>\n",
       "    <tr>\n",
       "      <th>4</th>\n",
       "      <td>0</td>\n",
       "      <td>0</td>\n",
       "      <td>0</td>\n",
       "      <td>0</td>\n",
       "      <td>1</td>\n",
       "      <td>0</td>\n",
       "      <td>0</td>\n",
       "      <td>1</td>\n",
       "      <td>0</td>\n",
       "      <td>0</td>\n",
       "      <td>...</td>\n",
       "      <td>-1.287830</td>\n",
       "      <td>7</td>\n",
       "      <td>4</td>\n",
       "      <td>0</td>\n",
       "      <td>-1.292430</td>\n",
       "      <td>0</td>\n",
       "      <td>0</td>\n",
       "      <td>0</td>\n",
       "      <td>0</td>\n",
       "      <td>0</td>\n",
       "    </tr>\n",
       "  </tbody>\n",
       "</table>\n",
       "<p>5 rows × 39 columns</p>\n",
       "</div>"
      ],
      "text/plain": [
       "   broad_kbs  broad_mbc  broad_sbs  broad_jtbc  broad_tvn  broad_mnet  \\\n",
       "0          0          0          1           0          0           0   \n",
       "1          0          0          0           0          1           0   \n",
       "2          0          0          0           0          0           0   \n",
       "3          0          0          0           0          0           0   \n",
       "4          0          0          0           0          1           0   \n",
       "\n",
       "   broad_etc  age_12  age_15  age_19    ...       log_max  pro1  pro2  \\\n",
       "0          0       0       1       0    ...     -1.173925   107    37   \n",
       "1          0       1       0       0    ...     -0.709965    28    20   \n",
       "2          1       0       1       0    ...     -1.113509     9     0   \n",
       "3          1       0       1       0    ...     -1.287830    81    12   \n",
       "4          0       1       0       0    ...     -1.287830     7     4   \n",
       "\n",
       "   pd_award  log_pd_max  pd_pro1  pd_pro2  portal_naver  portal_daum  \\\n",
       "0         0   -2.202732        8        0             1            0   \n",
       "1         0   -1.481486        0        0             1            0   \n",
       "2         0   -1.292430        0        0             0            0   \n",
       "3         0   -2.042393        0        0             0            0   \n",
       "4         0   -1.292430        0        0             0            0   \n",
       "\n",
       "   pd_portal  \n",
       "0          1  \n",
       "1          1  \n",
       "2          0  \n",
       "3          0  \n",
       "4          0  \n",
       "\n",
       "[5 rows x 39 columns]"
      ]
     },
     "execution_count": 7,
     "metadata": {},
     "output_type": "execute_result"
    }
   ],
   "source": [
    "X_test.head()"
   ]
  },
  {
   "cell_type": "code",
   "execution_count": 8,
   "metadata": {
    "collapsed": false
   },
   "outputs": [
    {
     "data": {
      "text/plain": [
       "0    0.01725\n",
       "1    0.09300\n",
       "2    0.00767\n",
       "3    0.05086\n",
       "4    0.00709\n",
       "Name: y, dtype: float64"
      ]
     },
     "execution_count": 8,
     "metadata": {},
     "output_type": "execute_result"
    }
   ],
   "source": [
    "y_test.head()"
   ]
  },
  {
   "cell_type": "code",
   "execution_count": 26,
   "metadata": {
    "collapsed": false
   },
   "outputs": [
    {
     "data": {
      "text/plain": [
       "RandomForestRegressor(bootstrap=True, criterion='mse', max_depth=None,\n",
       "           max_features='auto', max_leaf_nodes=None,\n",
       "           min_impurity_decrease=0.0, min_impurity_split=None,\n",
       "           min_samples_leaf=1, min_samples_split=2,\n",
       "           min_weight_fraction_leaf=0.0, n_estimators=150, n_jobs=1,\n",
       "           oob_score=True, random_state=0, verbose=0, warm_start=False)"
      ]
     },
     "execution_count": 26,
     "metadata": {},
     "output_type": "execute_result"
    }
   ],
   "source": [
    "from sklearn.ensemble import RandomForestRegressor\n",
    "\n",
    "rf = RandomForestRegressor(n_estimators=150, oob_score=True, random_state=0)\n",
    "rf.fit(X_train, y_train)"
   ]
  },
  {
   "cell_type": "code",
   "execution_count": 27,
   "metadata": {
    "collapsed": true
   },
   "outputs": [],
   "source": [
    "#원본데이터"
   ]
  },
  {
   "cell_type": "code",
   "execution_count": 28,
   "metadata": {
    "collapsed": false,
    "scrolled": false
   },
   "outputs": [
    {
     "name": "stdout",
     "output_type": "stream",
     "text": [
      "test score:  -0.007653611626474266\n",
      "Out-of-bag score estimate: 0.355\n"
     ]
    }
   ],
   "source": [
    "from sklearn import metrics\n",
    "\n",
    "y_predict = rf.predict(X_test)\n",
    "score = metrics.r2_score(y_test, y_predict)\n",
    "print('test score: ', score)\n",
    "print(f'Out-of-bag score estimate: {rf.oob_score_:.3}')  #정확한지 수치로"
   ]
  },
  {
   "cell_type": "code",
   "execution_count": 29,
   "metadata": {
    "collapsed": false
   },
   "outputs": [
    {
     "data": {
      "text/plain": [
       "0.5016245803841143"
      ]
     },
     "execution_count": 29,
     "metadata": {},
     "output_type": "execute_result"
    }
   ],
   "source": [
    "sst=sum((y_test-y_predict+y_predict-np.mean(y_test))**2)\n",
    "ssr=sum((y_predict-np.mean(y_test))**2)\n",
    "r_square=(ssr/sst)\n",
    "r_square0"
   ]
  },
  {
   "cell_type": "code",
   "execution_count": 30,
   "metadata": {
    "collapsed": false,
    "scrolled": true
   },
   "outputs": [
    {
     "name": "stdout",
     "output_type": "stream",
     "text": [
      "Mean Absolute Error: 0.025861050469422914\n",
      "Mean Squared Error: 0.0009673157752836393\n",
      "Root Mean Squared Error: 0.03110170052076959\n"
     ]
    }
   ],
   "source": [
    "print(\"Mean Absolute Error:\", metrics.mean_absolute_error(y_test,y_predict))\n",
    "print(\"Mean Squared Error:\", metrics.mean_squared_error(y_test,y_predict))\n",
    "print(\"Root Mean Squared Error:\", np.sqrt(metrics.mean_squared_error(y_test,y_predict)))"
   ]
  },
  {
   "cell_type": "code",
   "execution_count": null,
   "metadata": {
    "collapsed": true
   },
   "outputs": [],
   "source": []
  },
  {
   "cell_type": "code",
   "execution_count": 88,
   "metadata": {
    "collapsed": true
   },
   "outputs": [],
   "source": [
    "a=rf.feature_importances_"
   ]
  },
  {
   "cell_type": "code",
   "execution_count": 89,
   "metadata": {
    "collapsed": true
   },
   "outputs": [],
   "source": [
    "from pandas import Series, DataFrame\n",
    "import pandas as pd"
   ]
  },
  {
   "cell_type": "code",
   "execution_count": 90,
   "metadata": {
    "collapsed": true
   },
   "outputs": [],
   "source": [
    "total=pd.DataFrame(data={'a':a})\n",
    "total.to_excel('E:/박혜린/디버그/ck프로젝트(18년도 2학기)/데이터/최종데이터/a.xlsx')"
   ]
  },
  {
   "cell_type": "code",
   "execution_count": null,
   "metadata": {
    "collapsed": true
   },
   "outputs": [],
   "source": []
  }
 ],
 "metadata": {
  "anaconda-cloud": {},
  "kernelspec": {
   "display_name": "Python [default]",
   "language": "python",
   "name": "python3"
  },
  "language_info": {
   "codemirror_mode": {
    "name": "ipython",
    "version": 3
   },
   "file_extension": ".py",
   "mimetype": "text/x-python",
   "name": "python",
   "nbconvert_exporter": "python",
   "pygments_lexer": "ipython3",
   "version": "3.5.2"
  }
 },
 "nbformat": 4,
 "nbformat_minor": 2
}
