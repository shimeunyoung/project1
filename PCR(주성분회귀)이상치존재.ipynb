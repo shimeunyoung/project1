{
 "cells": [
  {
   "cell_type": "markdown",
   "metadata": {},
   "source": [
    "주 요소 회귀 (PCR)는 sklearn 라이브러리의 일부인 PCA() 함수를 사용하여 수행 할 수 있습니다. 이 실험실에서는 Salary 를 예측하기 위해 Hitters 데이터에 PCR을 적용합니다. 이전 실습에서와 마찬가지로 누락 된 값이 데이터에서 제거되었는지 확인하여 시작할 것입니다."
   ]
  },
  {
   "cell_type": "markdown",
   "metadata": {},
   "source": [
    "회귀분석 시 변수들 간의 다중공선성 문제가 있을 때 주성분을 통한 회귀분석 필요"
   ]
  },
  {
   "cell_type": "code",
   "execution_count": 1,
   "metadata": {},
   "outputs": [],
   "source": [
    "%matplotlib inline\n",
    "import pandas as pd\n",
    "import numpy as np\n",
    "import matplotlib.pyplot as plt\n",
    "\n",
    "from sklearn.preprocessing import scale \n",
    "from sklearn import model_selection\n",
    "from sklearn.decomposition import PCA\n",
    "from sklearn.linear_model import LinearRegression\n",
    "from sklearn.cross_decomposition import PLSRegression, PLSSVD\n",
    "from sklearn.metrics import mean_squared_error"
   ]
  },
  {
   "cell_type": "markdown",
   "metadata": {},
   "source": [
    "# 다중공선성확인"
   ]
  },
  {
   "cell_type": "code",
   "execution_count": 340,
   "metadata": {},
   "outputs": [],
   "source": [
    "from patsy import dmatrices\n",
    "import statsmodels.api as sm\n",
    "from statsmodels.stats.outliers_influence import variance_inflation_factor"
   ]
  },
  {
   "cell_type": "code",
   "execution_count": 357,
   "metadata": {},
   "outputs": [],
   "source": [
    "data=pd.read_excel('D:/2018-2_ck project/final.xlsx')"
   ]
  },
  {
   "cell_type": "code",
   "execution_count": 358,
   "metadata": {
    "scrolled": true
   },
   "outputs": [
    {
     "data": {
      "text/plain": [
       "Index(['year', 'broad_kbs', 'broad_mbc', 'broad_sbs', 'broad_jtbc',\n",
       "       'broad_tvn', 'broad_mnet', 'broad_etc', 'age_12', 'age_15', 'age_19',\n",
       "       'age_all', 'week_mon', 'week_tue', 'week_wed', 'week_thu', 'week_fri',\n",
       "       'week_sat', 'week_sun', 'tw_gold', 'tw_week', 'tw_etc', 'ca_mc',\n",
       "       'ca_gag', 'ca_tal', 'ca_sing', 'ca_act', 'ca_bro', 'ca_etc',\n",
       "       'log_award', 'log_max', 'log_pro1', 'log_pro2', 'log_pd_award',\n",
       "       'log_pd_max', 'log_pd_pro1', 'log_pd_pro2', 'portal_naver',\n",
       "       'portal_daum', 'pd_portal', 'y', 'logy'],\n",
       "      dtype='object')"
      ]
     },
     "execution_count": 358,
     "metadata": {},
     "output_type": "execute_result"
    }
   ],
   "source": [
    "data.columns"
   ]
  },
  {
   "cell_type": "code",
   "execution_count": 364,
   "metadata": {},
   "outputs": [],
   "source": [
    "var=\"broad_kbs+broad_mbc+broad_sbs+broad_jtbc+broad_tvn+broad_mnet+broad_etc+age_12+age_15+age_19+age_all+week_mon+week_tue+week_wed+week_thu+week_fri+week_sat+week_sun+tw_gold+tw_week+tw_etc+ca_mc+ca_gag+ca_tal+ca_sing+ca_act+ca_bro+ca_etc+log_award+log_max+log_pro1+log_pro2+log_pd_award+log_pd_max+log_pd_pro1+log_pd_pro2+portal_naver+portal_daum+pd_portal\""
   ]
  },
  {
   "cell_type": "code",
   "execution_count": 365,
   "metadata": {
    "scrolled": true
   },
   "outputs": [
    {
     "data": {
      "text/plain": [
       "'broad_kbs+broad_mbc+broad_sbs+broad_jtbc+broad_tvn+broad_mnet+broad_etc+age_12+age_15+age_19+age_all+week_mon+week_tue+week_wed+week_thu+week_fri+week_sat+week_sun+tw_gold+tw_week+tw_etc+ca_mc+ca_gag+ca_tal+ca_sing+ca_act+ca_bro+ca_etc+log_award+log_max+log_pro1+log_pro2+log_pd_award+log_pd_max+log_pd_pro1+log_pd_pro2+portal_naver+portal_daum+pd_portal'"
      ]
     },
     "execution_count": 365,
     "metadata": {},
     "output_type": "execute_result"
    }
   ],
   "source": [
    "var"
   ]
  },
  {
   "cell_type": "code",
   "execution_count": 366,
   "metadata": {},
   "outputs": [],
   "source": [
    "y,X=dmatrices(\"logy~\"+var,data=data, return_type=\"dataframe\")"
   ]
  },
  {
   "cell_type": "code",
   "execution_count": 367,
   "metadata": {
    "scrolled": true
   },
   "outputs": [
    {
     "name": "stderr",
     "output_type": "stream",
     "text": [
      "C:\\ProgramData\\Anaconda3\\lib\\site-packages\\statsmodels\\regression\\linear_model.py:1543: RuntimeWarning: divide by zero encountered in double_scalars\n",
      "  return 1 - self.ssr/self.centered_tss\n",
      "C:\\ProgramData\\Anaconda3\\lib\\site-packages\\statsmodels\\stats\\outliers_influence.py:181: RuntimeWarning: divide by zero encountered in double_scalars\n",
      "  vif = 1. / (1. - r_squared_i)\n"
     ]
    }
   ],
   "source": [
    "vif=[variance_inflation_factor(X.values,i) for i in range(x.shape[1])]"
   ]
  },
  {
   "cell_type": "code",
   "execution_count": 368,
   "metadata": {},
   "outputs": [],
   "source": [
    "result=sm.OLS(y,X).fit()"
   ]
  },
  {
   "cell_type": "code",
   "execution_count": 369,
   "metadata": {
    "scrolled": true
   },
   "outputs": [
    {
     "name": "stdout",
     "output_type": "stream",
     "text": [
      "                            OLS Regression Results                            \n",
      "==============================================================================\n",
      "Dep. Variable:                   logy   R-squared:                       0.251\n",
      "Model:                            OLS   Adj. R-squared:                  0.201\n",
      "Method:                 Least Squares   F-statistic:                     5.071\n",
      "Date:                Sun, 25 Nov 2018   Prob (F-statistic):           3.50e-16\n",
      "Time:                        01:38:24   Log-Likelihood:                -214.15\n",
      "No. Observations:                 518   AIC:                             494.3\n",
      "Df Residuals:                     485   BIC:                             634.5\n",
      "Df Model:                          32                                         \n",
      "Covariance Type:            nonrobust                                         \n",
      "================================================================================\n",
      "                   coef    std err          t      P>|t|      [0.025      0.975]\n",
      "--------------------------------------------------------------------------------\n",
      "Intercept       -0.2738      0.073     -3.751      0.000      -0.417      -0.130\n",
      "broad_kbs        0.0428      0.048      0.883      0.378      -0.052       0.138\n",
      "broad_mbc        0.0158      0.058      0.271      0.786      -0.098       0.130\n",
      "broad_sbs       -0.0684      0.050     -1.358      0.175      -0.167       0.031\n",
      "broad_jtbc      -0.1004      0.047     -2.150      0.032      -0.192      -0.009\n",
      "broad_tvn       -0.1038      0.043     -2.432      0.015      -0.188      -0.020\n",
      "broad_mnet       0.0138      0.069      0.200      0.842      -0.122       0.149\n",
      "broad_etc       -0.0734      0.038     -1.931      0.054      -0.148       0.001\n",
      "age_12          -0.0285      0.058     -0.494      0.621      -0.142       0.085\n",
      "age_15          -0.1055      0.048     -2.181      0.030      -0.200      -0.010\n",
      "age_19           0.0719      0.138      0.523      0.601      -0.198       0.342\n",
      "age_all         -0.2117      0.067     -3.178      0.002      -0.343      -0.081\n",
      "week_mon         0.0160      0.059      0.271      0.787      -0.100       0.132\n",
      "week_tue         0.0099      0.053      0.187      0.852      -0.094       0.114\n",
      "week_wed         0.0137      0.046      0.295      0.768      -0.077       0.105\n",
      "week_thu        -0.1419      0.046     -3.072      0.002      -0.233      -0.051\n",
      "week_fri        -0.0592      0.027     -2.224      0.027      -0.112      -0.007\n",
      "week_sat        -0.0300      0.040     -0.746      0.456      -0.109       0.049\n",
      "week_sun        -0.0822      0.051     -1.605      0.109      -0.183       0.018\n",
      "tw_gold         -0.0592      0.027     -2.224      0.027      -0.112      -0.007\n",
      "tw_week         -0.0776      0.065     -1.188      0.235      -0.206       0.051\n",
      "tw_etc          -0.1369      0.040     -3.428      0.001      -0.215      -0.058\n",
      "ca_mc            0.0324      0.038      0.853      0.394      -0.042       0.107\n",
      "ca_gag          -0.0283      0.050     -0.571      0.568      -0.126       0.069\n",
      "ca_tal          -0.0565      0.050     -1.139      0.255      -0.154       0.041\n",
      "ca_sing         -0.1604      0.051     -3.137      0.002      -0.261      -0.060\n",
      "ca_act          -0.0769      0.056     -1.374      0.170      -0.187       0.033\n",
      "ca_bro          -0.0229      0.079     -0.289      0.772      -0.178       0.133\n",
      "ca_etc           0.0387      0.047      0.829      0.407      -0.053       0.130\n",
      "log_award       -0.0625      0.052     -1.212      0.226      -0.164       0.039\n",
      "log_max          0.1865      0.045      4.105      0.000       0.097       0.276\n",
      "log_pro1        -0.0383      0.066     -0.584      0.559      -0.167       0.091\n",
      "log_pro2        -0.0620      0.062     -0.993      0.321      -0.185       0.061\n",
      "log_pd_award     0.0146      0.162      0.090      0.928      -0.304       0.334\n",
      "log_pd_max       0.4325      0.054      8.082      0.000       0.327       0.538\n",
      "log_pd_pro1     -0.0490      0.084     -0.584      0.560      -0.214       0.116\n",
      "log_pd_pro2      0.0084      0.100      0.083      0.934      -0.189       0.206\n",
      "portal_naver    -0.0823      0.043     -1.922      0.055      -0.166       0.002\n",
      "portal_daum      0.0269      0.023      1.154      0.249      -0.019       0.073\n",
      "pd_portal        0.0269      0.023      1.154      0.249      -0.019       0.073\n",
      "==============================================================================\n",
      "Omnibus:                       10.701   Durbin-Watson:                   1.826\n",
      "Prob(Omnibus):                  0.005   Jarque-Bera (JB):                8.208\n",
      "Skew:                          -0.208   Prob(JB):                       0.0165\n",
      "Kurtosis:                       2.544   Cond. No.                     2.45e+16\n",
      "==============================================================================\n",
      "\n",
      "Warnings:\n",
      "[1] Standard Errors assume that the covariance matrix of the errors is correctly specified.\n",
      "[2] The smallest eigenvalue is 1.02e-29. This might indicate that there are\n",
      "strong multicollinearity problems or that the design matrix is singular.\n"
     ]
    }
   ],
   "source": [
    "print(result.summary())"
   ]
  },
  {
   "cell_type": "code",
   "execution_count": 370,
   "metadata": {},
   "outputs": [],
   "source": [
    "#p-value 0.5넘을 경우 다중공선성 의심\n",
    "# broad_mbc, broad_mnet, age_12, age_19, week_mon, week_tue, week_wed, ca_gag, ca_bro, log_pro1, log_pd_award, log_pd_pro1, log_pd_pro2  의심"
   ]
  },
  {
   "cell_type": "markdown",
   "metadata": {},
   "source": [
    "# PCR"
   ]
  },
  {
   "cell_type": "code",
   "execution_count": 432,
   "metadata": {},
   "outputs": [],
   "source": [
    "train = pd.read_excel('D:/2018-2_ck project/final_train(1).xlsx')\n",
    "test= pd.read_excel('D:/2018-2_ck project/final_test.xlsx')"
   ]
  },
  {
   "cell_type": "code",
   "execution_count": 59,
   "metadata": {},
   "outputs": [],
   "source": [
    "#분할"
   ]
  },
  {
   "cell_type": "code",
   "execution_count": 433,
   "metadata": {},
   "outputs": [],
   "source": [
    "x_train=train.iloc[:,1:-2]\n",
    "y_train=train.iloc[:,-1]"
   ]
  },
  {
   "cell_type": "code",
   "execution_count": 379,
   "metadata": {},
   "outputs": [
    {
     "data": {
      "text/html": [
       "<div>\n",
       "<style scoped>\n",
       "    .dataframe tbody tr th:only-of-type {\n",
       "        vertical-align: middle;\n",
       "    }\n",
       "\n",
       "    .dataframe tbody tr th {\n",
       "        vertical-align: top;\n",
       "    }\n",
       "\n",
       "    .dataframe thead th {\n",
       "        text-align: right;\n",
       "    }\n",
       "</style>\n",
       "<table border=\"1\" class=\"dataframe\">\n",
       "  <thead>\n",
       "    <tr style=\"text-align: right;\">\n",
       "      <th></th>\n",
       "      <th>broad_kbs</th>\n",
       "      <th>broad_mbc</th>\n",
       "      <th>broad_sbs</th>\n",
       "      <th>broad_jtbc</th>\n",
       "      <th>broad_tvn</th>\n",
       "      <th>broad_mnet</th>\n",
       "      <th>broad_etc</th>\n",
       "      <th>age_12</th>\n",
       "      <th>age_15</th>\n",
       "      <th>age_19</th>\n",
       "      <th>...</th>\n",
       "      <th>log_max</th>\n",
       "      <th>log_pro1</th>\n",
       "      <th>log_pro2</th>\n",
       "      <th>log_pd_award</th>\n",
       "      <th>log_pd_max</th>\n",
       "      <th>log_pd_pro1</th>\n",
       "      <th>log_pd_pro2</th>\n",
       "      <th>portal_naver</th>\n",
       "      <th>portal_daum</th>\n",
       "      <th>pd_portal</th>\n",
       "    </tr>\n",
       "  </thead>\n",
       "  <tbody>\n",
       "    <tr>\n",
       "      <th>0</th>\n",
       "      <td>0</td>\n",
       "      <td>0</td>\n",
       "      <td>1</td>\n",
       "      <td>0</td>\n",
       "      <td>0</td>\n",
       "      <td>0</td>\n",
       "      <td>0</td>\n",
       "      <td>0</td>\n",
       "      <td>1</td>\n",
       "      <td>0</td>\n",
       "      <td>...</td>\n",
       "      <td>-1.17393</td>\n",
       "      <td>2.029384</td>\n",
       "      <td>1.568202</td>\n",
       "      <td>0.388585</td>\n",
       "      <td>-2.20273</td>\n",
       "      <td>0.903090</td>\n",
       "      <td>0.440044</td>\n",
       "      <td>1</td>\n",
       "      <td>0</td>\n",
       "      <td>0</td>\n",
       "    </tr>\n",
       "    <tr>\n",
       "      <th>1</th>\n",
       "      <td>0</td>\n",
       "      <td>0</td>\n",
       "      <td>0</td>\n",
       "      <td>0</td>\n",
       "      <td>1</td>\n",
       "      <td>0</td>\n",
       "      <td>0</td>\n",
       "      <td>1</td>\n",
       "      <td>0</td>\n",
       "      <td>0</td>\n",
       "      <td>...</td>\n",
       "      <td>-0.70997</td>\n",
       "      <td>1.447158</td>\n",
       "      <td>1.301030</td>\n",
       "      <td>0.388585</td>\n",
       "      <td>-1.48149</td>\n",
       "      <td>0.694614</td>\n",
       "      <td>0.440044</td>\n",
       "      <td>1</td>\n",
       "      <td>0</td>\n",
       "      <td>0</td>\n",
       "    </tr>\n",
       "    <tr>\n",
       "      <th>2</th>\n",
       "      <td>0</td>\n",
       "      <td>0</td>\n",
       "      <td>0</td>\n",
       "      <td>0</td>\n",
       "      <td>0</td>\n",
       "      <td>0</td>\n",
       "      <td>1</td>\n",
       "      <td>0</td>\n",
       "      <td>1</td>\n",
       "      <td>0</td>\n",
       "      <td>...</td>\n",
       "      <td>-1.11351</td>\n",
       "      <td>0.954243</td>\n",
       "      <td>0.980469</td>\n",
       "      <td>0.388585</td>\n",
       "      <td>-1.29243</td>\n",
       "      <td>0.694614</td>\n",
       "      <td>0.440044</td>\n",
       "      <td>0</td>\n",
       "      <td>0</td>\n",
       "      <td>0</td>\n",
       "    </tr>\n",
       "    <tr>\n",
       "      <th>3</th>\n",
       "      <td>0</td>\n",
       "      <td>0</td>\n",
       "      <td>0</td>\n",
       "      <td>0</td>\n",
       "      <td>0</td>\n",
       "      <td>0</td>\n",
       "      <td>1</td>\n",
       "      <td>0</td>\n",
       "      <td>1</td>\n",
       "      <td>0</td>\n",
       "      <td>...</td>\n",
       "      <td>-1.28783</td>\n",
       "      <td>1.908485</td>\n",
       "      <td>1.079181</td>\n",
       "      <td>0.388585</td>\n",
       "      <td>-2.04239</td>\n",
       "      <td>0.694614</td>\n",
       "      <td>0.440044</td>\n",
       "      <td>0</td>\n",
       "      <td>0</td>\n",
       "      <td>0</td>\n",
       "    </tr>\n",
       "    <tr>\n",
       "      <th>4</th>\n",
       "      <td>0</td>\n",
       "      <td>0</td>\n",
       "      <td>0</td>\n",
       "      <td>0</td>\n",
       "      <td>1</td>\n",
       "      <td>0</td>\n",
       "      <td>0</td>\n",
       "      <td>1</td>\n",
       "      <td>0</td>\n",
       "      <td>0</td>\n",
       "      <td>...</td>\n",
       "      <td>-1.28783</td>\n",
       "      <td>0.845098</td>\n",
       "      <td>0.602060</td>\n",
       "      <td>0.388585</td>\n",
       "      <td>-1.29243</td>\n",
       "      <td>0.694614</td>\n",
       "      <td>0.440044</td>\n",
       "      <td>0</td>\n",
       "      <td>0</td>\n",
       "      <td>0</td>\n",
       "    </tr>\n",
       "  </tbody>\n",
       "</table>\n",
       "<p>5 rows × 39 columns</p>\n",
       "</div>"
      ],
      "text/plain": [
       "   broad_kbs  broad_mbc  broad_sbs  broad_jtbc  broad_tvn  broad_mnet  \\\n",
       "0          0          0          1           0          0           0   \n",
       "1          0          0          0           0          1           0   \n",
       "2          0          0          0           0          0           0   \n",
       "3          0          0          0           0          0           0   \n",
       "4          0          0          0           0          1           0   \n",
       "\n",
       "   broad_etc  age_12  age_15  age_19    ...      log_max  log_pro1  log_pro2  \\\n",
       "0          0       0       1       0    ...     -1.17393  2.029384  1.568202   \n",
       "1          0       1       0       0    ...     -0.70997  1.447158  1.301030   \n",
       "2          1       0       1       0    ...     -1.11351  0.954243  0.980469   \n",
       "3          1       0       1       0    ...     -1.28783  1.908485  1.079181   \n",
       "4          0       1       0       0    ...     -1.28783  0.845098  0.602060   \n",
       "\n",
       "   log_pd_award  log_pd_max  log_pd_pro1  log_pd_pro2  portal_naver  \\\n",
       "0      0.388585    -2.20273     0.903090     0.440044             1   \n",
       "1      0.388585    -1.48149     0.694614     0.440044             1   \n",
       "2      0.388585    -1.29243     0.694614     0.440044             0   \n",
       "3      0.388585    -2.04239     0.694614     0.440044             0   \n",
       "4      0.388585    -1.29243     0.694614     0.440044             0   \n",
       "\n",
       "   portal_daum  pd_portal  \n",
       "0            0          0  \n",
       "1            0          0  \n",
       "2            0          0  \n",
       "3            0          0  \n",
       "4            0          0  \n",
       "\n",
       "[5 rows x 39 columns]"
      ]
     },
     "execution_count": 379,
     "metadata": {},
     "output_type": "execute_result"
    }
   ],
   "source": [
    "x_test.head()"
   ]
  },
  {
   "cell_type": "code",
   "execution_count": 434,
   "metadata": {},
   "outputs": [],
   "source": [
    "x_test=test.iloc[:,1:-2]\n",
    "y_test=test.iloc[:,-1]"
   ]
  },
  {
   "cell_type": "code",
   "execution_count": 435,
   "metadata": {},
   "outputs": [],
   "source": [
    "pca2 = PCA()"
   ]
  },
  {
   "cell_type": "code",
   "execution_count": 436,
   "metadata": {},
   "outputs": [],
   "source": [
    "X_reduced_train = pca2.fit_transform(scale(x_train))"
   ]
  },
  {
   "cell_type": "markdown",
   "metadata": {},
   "source": [
    "각각의 연속적인 주성분을 더함으로써 설명되는 분산의 양을 얻기 위해 약간의 계산을 함"
   ]
  },
  {
   "cell_type": "code",
   "execution_count": 437,
   "metadata": {
    "scrolled": true
   },
   "outputs": [
    {
     "data": {
      "text/plain": [
       "array([ 12.15,  20.4 ,  26.99,  32.71,  37.08,  41.24,  45.28,  48.99,\n",
       "        52.69,  56.12,  59.5 ,  62.66,  65.72,  68.64,  71.43,  74.15,\n",
       "        76.8 ,  79.24,  81.56,  83.71,  85.86,  87.89,  89.75,  91.57,\n",
       "        93.32,  94.91,  96.26,  97.45,  98.59,  99.27,  99.71, 100.  ,\n",
       "       100.  , 100.  , 100.  , 100.  , 100.  , 100.  , 100.  ])"
      ]
     },
     "execution_count": 437,
     "metadata": {},
     "output_type": "execute_result"
    }
   ],
   "source": [
    "np.cumsum(np.round(pca.explained_variance_ratio_, decimals=4)*100)"
   ]
  },
  {
   "cell_type": "markdown",
   "metadata": {},
   "source": [
    "MSE에 어떻게 영향을 주는지 확인하기 위해 10 배 교차 유효성 검사를 수행"
   ]
  },
  {
   "cell_type": "code",
   "execution_count": 438,
   "metadata": {},
   "outputs": [],
   "source": [
    "# 10 배 CV, 셔플 사용\n",
    "n = len(X_reduced_train)\n",
    "kf_10 = model_selection.KFold( n_splits=10, shuffle=True, random_state=1)\n",
    "\n",
    "regr = LinearRegression()\n",
    "mse = []\n"
   ]
  },
  {
   "cell_type": "code",
   "execution_count": 439,
   "metadata": {},
   "outputs": [
    {
     "data": {
      "text/plain": [
       "0.16662910582393714"
      ]
     },
     "execution_count": 439,
     "metadata": {},
     "output_type": "execute_result"
    }
   ],
   "source": [
    "# 절편 만있는 MSE 계산 (회귀 분석에서 주요 구성 요소 없음)\n",
    "score = -1*model_selection.cross_val_score(regr, np.ones((n,1)), y_train.ravel(), cv=kf_10, scoring='neg_mean_squared_error').mean()    \n",
    "mse.append(score)\n",
    "score"
   ]
  },
  {
   "cell_type": "code",
   "execution_count": 440,
   "metadata": {},
   "outputs": [],
   "source": [
    " # 19 가지 주요 구성 요소에 대해 CV를 사용하여 MSE를 계산하고 그 때 한 구성 요소를 추가\n",
    "for i in np.arange(1, 25):\n",
    "    score = -1*model_selection.cross_val_score(regr, X_reduced_train[:,:i], y_train.ravel(), cv=kf_10, scoring='neg_mean_squared_error').mean()\n",
    "    mse.append(score)"
   ]
  },
  {
   "cell_type": "code",
   "execution_count": 441,
   "metadata": {},
   "outputs": [
    {
     "data": {
      "image/png": "[encoded data removed]",
      "text/plain": [
       "<Figure size 432x288 with 1 Axes>"
      ]
     },
     "metadata": {},
     "output_type": "display_data"
    }
   ],
   "source": [
    "plt.plot(mse, '-v')\n",
    "plt.xlabel('Number of principal components in regression')#'회귀 분석의 주요 구성 요소 수' \n",
    "plt.ylabel('MSE')\n",
    "plt.title('y')\n",
    "plt.xlim(xmin=-1);"
   ]
  },
  {
   "cell_type": "markdown",
   "metadata": {},
   "source": [
    "가장 낮은 유효성 검사 오류는  M=19,20 구성 요소가 사용될 때 발생합니다. 이제 테스트 데이터에서 어떻게 수행되는지 확인하고 다음과 같이 테스트 MSE를 계산합니다."
   ]
  },
  {
   "cell_type": "code",
   "execution_count": 442,
   "metadata": {},
   "outputs": [],
   "source": [
    " X_reduced_test = pca2 .  transform ( scale( x_test )) [:, : 20]"
   ]
  },
  {
   "cell_type": "code",
   "execution_count": 447,
   "metadata": {},
   "outputs": [],
   "source": [
    " X_reduced_test = pca2 .  transform ( scale( x_test )) [:, : 21]"
   ]
  },
  {
   "cell_type": "code",
   "execution_count": 133,
   "metadata": {},
   "outputs": [],
   "source": [
    "# 훈련 데이터에 대한 회귀 모델 모델링"
   ]
  },
  {
   "cell_type": "code",
   "execution_count": 443,
   "metadata": {},
   "outputs": [
    {
     "data": {
      "text/plain": [
       "LinearRegression(copy_X=True, fit_intercept=True, n_jobs=1, normalize=False)"
      ]
     },
     "execution_count": 443,
     "metadata": {},
     "output_type": "execute_result"
    }
   ],
   "source": [
    "regr = LinearRegression()\n",
    "regr.fit(X_reduced_train[:,:20], y_train)"
   ]
  },
  {
   "cell_type": "code",
   "execution_count": 448,
   "metadata": {},
   "outputs": [
    {
     "data": {
      "text/plain": [
       "LinearRegression(copy_X=True, fit_intercept=True, n_jobs=1, normalize=False)"
      ]
     },
     "execution_count": 448,
     "metadata": {},
     "output_type": "execute_result"
    }
   ],
   "source": [
    "regr = LinearRegression()\n",
    "regr.fit(X_reduced_train[:,:21], y_train)"
   ]
  },
  {
   "cell_type": "code",
   "execution_count": 132,
   "metadata": {},
   "outputs": [],
   "source": [
    " # 테스트 데이터로 예측"
   ]
  },
  {
   "cell_type": "code",
   "execution_count": 453,
   "metadata": {},
   "outputs": [],
   "source": [
    "#M=19"
   ]
  },
  {
   "cell_type": "code",
   "execution_count": 444,
   "metadata": {},
   "outputs": [
    {
     "data": {
      "text/plain": [
       "0.35705198001811106"
      ]
     },
     "execution_count": 444,
     "metadata": {},
     "output_type": "execute_result"
    }
   ],
   "source": [
    "pred = regr.predict(X_reduced_test)\n",
    "mse=mean_squared_error(pred, y_test)\n",
    "mse"
   ]
  },
  {
   "cell_type": "code",
   "execution_count": 445,
   "metadata": {},
   "outputs": [
    {
     "data": {
      "text/plain": [
       "0.681100369996134"
      ]
     },
     "execution_count": 445,
     "metadata": {},
     "output_type": "execute_result"
    }
   ],
   "source": [
    "sst=sum((y_test-pred+pred-np.mean(y_test))**2)\n",
    "ssr=sum((pred-np.mean(y_test))**2)\n",
    "r_square=(ssr/sst)\n",
    "r_square"
   ]
  },
  {
   "cell_type": "code",
   "execution_count": 446,
   "metadata": {},
   "outputs": [
    {
     "data": {
      "text/plain": [
       "0.5975382665722012"
      ]
     },
     "execution_count": 446,
     "metadata": {},
     "output_type": "execute_result"
    }
   ],
   "source": [
    "rmse=np.sqrt(mse)\n",
    "rmse"
   ]
  },
  {
   "cell_type": "code",
   "execution_count": 452,
   "metadata": {},
   "outputs": [],
   "source": [
    "#M=20"
   ]
  },
  {
   "cell_type": "code",
   "execution_count": 449,
   "metadata": {},
   "outputs": [
    {
     "data": {
      "text/plain": [
       "0.35616362519218"
      ]
     },
     "execution_count": 449,
     "metadata": {},
     "output_type": "execute_result"
    }
   ],
   "source": [
    "pred = regr.predict(X_reduced_test)\n",
    "mse=mean_squared_error(pred, y_test)\n",
    "mse"
   ]
  },
  {
   "cell_type": "code",
   "execution_count": 450,
   "metadata": {},
   "outputs": [
    {
     "data": {
      "text/plain": [
       "0.6783427647316578"
      ]
     },
     "execution_count": 450,
     "metadata": {},
     "output_type": "execute_result"
    }
   ],
   "source": [
    "sst=sum((y_test-pred+pred-np.mean(y_test))**2)\n",
    "ssr=sum((pred-np.mean(y_test))**2)\n",
    "r_square=(ssr/sst)\n",
    "r_square"
   ]
  },
  {
   "cell_type": "code",
   "execution_count": 451,
   "metadata": {},
   "outputs": [
    {
     "data": {
      "text/plain": [
       "0.5967944580776366"
      ]
     },
     "execution_count": 451,
     "metadata": {},
     "output_type": "execute_result"
    }
   ],
   "source": [
    "rmse=np.sqrt(mse)\n",
    "rmse"
   ]
  }
 ],
 "metadata": {
  "kernelspec": {
   "display_name": "Python 3",
   "language": "python",
   "name": "python3"
  },
  "language_info": {
   "codemirror_mode": {
    "name": "ipython",
    "version": 3
   },
   "file_extension": ".py",
   "mimetype": "text/x-python",
   "name": "python",
   "nbconvert_exporter": "python",
   "pygments_lexer": "ipython3",
   "version": "3.6.5"
  }
 },
 "nbformat": 4,
 "nbformat_minor": 2
}
