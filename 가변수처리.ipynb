{
 "cells": [
  {
   "cell_type": "code",
   "execution_count": 189,
   "metadata": {},
   "outputs": [],
   "source": [
    "from pandas import Series, DataFrame\n",
    "import pandas as pd\n",
    "import numpy as np\n",
    "from sklearn.preprocessing import StandardScaler"
   ]
  },
  {
   "cell_type": "code",
   "execution_count": 190,
   "metadata": {},
   "outputs": [],
   "source": [
    "data=pd.read_excel(\"total data.xlsx\")"
   ]
  },
  {
   "cell_type": "code",
   "execution_count": null,
   "metadata": {},
   "outputs": [],
   "source": [
    "head(data)"
   ]
  },
  {
   "cell_type": "code",
   "execution_count": null,
   "metadata": {},
   "outputs": [],
   "source": [
    "len(data)"
   ]
  },
  {
   "cell_type": "code",
   "execution_count": 193,
   "metadata": {},
   "outputs": [],
   "source": [
    "title_list=data['title_list']\n",
    "broad_list=data['broad_list']\n",
    "age_list=data['age_list']\n",
    "ca_list=data['ca_list']\n",
    "percent_list=data['percent_list']\n",
    "max_list=data['max_list']\n",
    "pd_max_list=data['pd_max_list']\n",
    "title=list(title_list)\n",
    "broad_list=list(broad_list)\n",
    "age_list=list(age_list)\n",
    "ca_list=list(ca_list)\n",
    "percent_list=np.array(percent_list)\n",
    "max_list=np.array(max_list)\n",
    "pd_max_list=np.array(pd_max_list)\n",
    "week_list=data['week_list']\n",
    "week_list=list(week_list)\n",
    "time_list=data['time_list']\n",
    "time_list=list(time_list)"
   ]
  },
  {
   "cell_type": "markdown",
   "metadata": {},
   "source": [
    "## 1. 방송사 전처리"
   ]
  },
  {
   "cell_type": "code",
   "execution_count": 215,
   "metadata": {},
   "outputs": [],
   "source": [
    "a=[]\n",
    "for i in broad_list:\n",
    "    if \"KBS2\" in i:\n",
    "        a.append(1)\n",
    "    elif \"KBS1\" in i:\n",
    "        a.append(1)\n",
    "    elif \"MBC\" in i:\n",
    "        a.append(2)\n",
    "    elif \"SBS\" in i:\n",
    "        a.append(3)\n",
    "    elif \"JTBC\" in i:\n",
    "        a.append(4)\n",
    "    elif \"tvN\" in i:\n",
    "        a.append(5)\n",
    "    elif \"Mnet\" in i:\n",
    "        a.append(6)\n",
    "    else:\n",
    "        a.append(7)"
   ]
  },
  {
   "cell_type": "code",
   "execution_count": 216,
   "metadata": {},
   "outputs": [],
   "source": [
    "broad_list=a"
   ]
  },
  {
   "cell_type": "code",
   "execution_count": 217,
   "metadata": {},
   "outputs": [
    {
     "data": {
      "text/plain": [
       "520"
      ]
     },
     "execution_count": 217,
     "metadata": {},
     "output_type": "execute_result"
    }
   ],
   "source": [
    "len(broad_list)"
   ]
  },
  {
   "cell_type": "code",
   "execution_count": null,
   "metadata": {},
   "outputs": [],
   "source": [
    "broad_list #가변수 처리 KBS(1), MBC(2), SBS(3), JTBC(4), tvN(5), Mnet(6), 기타(7)"
   ]
  },
  {
   "cell_type": "markdown",
   "metadata": {},
   "source": [
    " ## 2.연령대 전처리"
   ]
  },
  {
   "cell_type": "code",
   "execution_count": 219,
   "metadata": {},
   "outputs": [],
   "source": [
    "result=[]\n",
    "for i in age_list:\n",
    "    ex=str(i)\n",
    "    result.append(ex)"
   ]
  },
  {
   "cell_type": "code",
   "execution_count": 223,
   "metadata": {},
   "outputs": [],
   "source": [
    "a=[]\n",
    "for i in result:\n",
    "    if \"7\" in i:\n",
    "        a.append(1)\n",
    "    elif \"12\" in i:\n",
    "        a.append(1)\n",
    "    elif \"15\" in i:\n",
    "        a.append(2)\n",
    "    elif \"19\" in i:\n",
    "        a.append(3)\n",
    "    elif \"전체\" in i:\n",
    "        a.append(4)"
   ]
  },
  {
   "cell_type": "code",
   "execution_count": 224,
   "metadata": {},
   "outputs": [],
   "source": [
    "age_list=a"
   ]
  },
  {
   "cell_type": "code",
   "execution_count": null,
   "metadata": {},
   "outputs": [],
   "source": [
    "age_list #7(1) 12(2) 15(3) 19(4) 전체(5)"
   ]
  },
  {
   "cell_type": "markdown",
   "metadata": {},
   "source": [
    " ## 3.사회자 직업 전처리"
   ]
  },
  {
   "cell_type": "code",
   "execution_count": 227,
   "metadata": {},
   "outputs": [],
   "source": [
    "# MC 179 가수 64 개그맨 76 방송연예인 22 영화배우 43 탤런트 66"
   ]
  },
  {
   "cell_type": "markdown",
   "metadata": {},
   "source": [
    "#MC 179\n",
    "가수 64\n",
    "개그맨 76\n",
    "교육인 1\n",
    "국회의원 2\n",
    "기업인 10\n",
    "대학교수 1\n",
    "리포터 1\n",
    "마술사 2\n",
    "모델 5\n",
    "문화기관단체인 1\n",
    "방송연예인 22\n",
    "방송인 2\n",
    "변호사 2\n",
    "스포츠기관단체인 1\n",
    "스포츠해설가 1\n",
    "시나리오작가 1\n",
    "아나운서 5\n",
    "앵커 1\n",
    "야구선수 1\n",
    "없음 13\n",
    "연예기획자 3\n",
    "영화감독 3\n",
    "영화배우 43\n",
    "요리연구가 1\n",
    "음악PD 1\n",
    "이종격투기선수 1\n",
    "작가 1\n",
    "작곡가 2\n",
    "전 농구선수 5\n",
    "지휘자 2\n",
    "탤런트 66\n",
    "학원인 1\n"
   ]
  },
  {
   "cell_type": "code",
   "execution_count": 228,
   "metadata": {},
   "outputs": [],
   "source": [
    "a=[]\n",
    "for i in ca_list:\n",
    "    if \"MC\" in i:\n",
    "        a.append(1)\n",
    "    elif \"개그맨\" in i:\n",
    "        a.append(2)\n",
    "    elif \"탤런트\" in i:\n",
    "        a.append(3)\n",
    "    elif \"가수\" in i:\n",
    "        a.append(4)\n",
    "    elif \"영화배우\" in i:\n",
    "        a.append(5)\n",
    "    elif \"방송연예인\" in i:\n",
    "        a.append(6)\n",
    "    else:\n",
    "        a.append(7)"
   ]
  },
  {
   "cell_type": "code",
   "execution_count": 229,
   "metadata": {},
   "outputs": [],
   "source": [
    "ca_list=a"
   ]
  },
  {
   "cell_type": "markdown",
   "metadata": {},
   "source": [
    " ## 4. 방송요일 전처리"
   ]
  },
  {
   "cell_type": "code",
   "execution_count": 230,
   "metadata": {},
   "outputs": [],
   "source": [
    "a=[]\n",
    "for i in week_list:\n",
    "    if \"월\" in i:\n",
    "        a.append(1)\n",
    "    elif \"화\" in i:\n",
    "        a.append(2)\n",
    "    elif \"수\" in i:\n",
    "        a.append(3)\n",
    "    elif \"목\" in i:\n",
    "        a.append(4)\n",
    "    elif \"금\" in i:\n",
    "        a.append(5)\n",
    "    elif \"토\" in i:\n",
    "        a.append(6)\n",
    "    else:\n",
    "        a.append(7)"
   ]
  },
  {
   "cell_type": "code",
   "execution_count": 231,
   "metadata": {},
   "outputs": [],
   "source": [
    "week_list=a"
   ]
  },
  {
   "cell_type": "markdown",
   "metadata": {},
   "source": [
    "10. time_list => 방송 시간 => 시간대로 가변수 생성\n",
    "11. week_list+time_list => 가변수 생성(논문 참고)"
   ]
  },
  {
   "cell_type": "markdown",
   "metadata": {},
   "source": [
    " ## 5. 방송시간 전처리"
   ]
  },
  {
   "cell_type": "code",
   "execution_count": 234,
   "metadata": {},
   "outputs": [],
   "source": [
    "exxx=[]\n",
    "for i in time_list:\n",
    "    x=i.minute+10\n",
    "    y=i.hour\n",
    "    if x > 59:\n",
    "        hour=y+1\n",
    "        exxx.append(hour)\n",
    "    else:\n",
    "        exxx.append(y)"
   ]
  },
  {
   "cell_type": "code",
   "execution_count": null,
   "metadata": {},
   "outputs": [],
   "source": [
    "hour_list=exxx\n",
    "len(hour_list)"
   ]
  },
  {
   "cell_type": "code",
   "execution_count": 243,
   "metadata": {},
   "outputs": [],
   "source": [
    "total=pd.DataFrame(data={'title_list':title_list,'percent_list':percent_list,'max_list':max_list,'pd_max_list':pd_max_list,'hour_list':hour_list,'week_list':week_list,'ca_list':ca_list,'broad_list':broad_list,'age_list':age_list})  #데이터프레임 만들기\n",
    "total.to_excel('데이터전처리.xlsx')"
   ]
  }
 ],
 "metadata": {
  "kernelspec": {
   "display_name": "Python 3",
   "language": "python",
   "name": "python3"
  },
  "language_info": {
   "codemirror_mode": {
    "name": "ipython",
    "version": 3
   },
   "file_extension": ".py",
   "mimetype": "text/x-python",
   "name": "python",
   "nbconvert_exporter": "python",
   "pygments_lexer": "ipython3",
   "version": "3.7.3"
  }
 },
 "nbformat": 4,
 "nbformat_minor": 2
}
